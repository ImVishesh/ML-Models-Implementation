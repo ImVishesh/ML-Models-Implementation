{
  "cells": [
    {
      "cell_type": "markdown",
      "metadata": {
        "id": "Vj_r89FzT41w"
      },
      "source": [
        "##**MACHINE LEARNING MODEL IMPLEMENTATIONS**\n",
        "--------------------------------------------------------------------------------\n",
        "\n",
        "**LINEAR MODELS FOR REGRESSION AND CLASSIFICATION**\n",
        "--------------------------------------------------------------------------------"
      ]
    },
    {
      "cell_type": "markdown",
      "metadata": {
        "id": "yT-dTtra2h2n"
      },
      "source": [
        "# **_1. Dataset Generation_**"
      ]
    },
    {
      "cell_type": "markdown",
      "metadata": {
        "id": "2UsOVUj22wrz"
      },
      "source": [
        "You are given a sample Diabetes dataset. Using this, please develop your own dataset consisting of 500 records. You can use the given code to generate your own dataset. Submit the generated dataset as a .csv file along with your python notebook."
      ]
    },
    {
      "cell_type": "code",
      "execution_count": 89,
      "metadata": {
        "colab": {
          "base_uri": "https://localhost:8080/"
        },
        "id": "N8uONwSjNSc-",
        "outputId": "9c371663-6b5e-4442-9957-391574f95e59"
      },
      "outputs": [],
      "source": [
        "# %pip install sdv\n",
        "# %pip install urllib3==1.26.7"
      ]
    },
    {
      "cell_type": "code",
      "execution_count": 90,
      "metadata": {
        "id": "s79NxubSpG7f"
      },
      "outputs": [],
      "source": [
        "# import pandas as pd\n",
        "# real_data = pd.read_excel('diabetes2.xlsx')\n",
        "\n",
        "# from sdv.metadata import SingleTableMetadata\n",
        "\n",
        "# metadata = SingleTableMetadata()\n",
        "# metadata.detect_from_dataframe(data=real_data)\n",
        "\n",
        "# from sdv.lite import SingleTablePreset\n",
        "\n",
        "# synthesizer = SingleTablePreset(\n",
        "#     metadata,\n",
        "#     name='FAST_ML'\n",
        "# )\n",
        "\n",
        "# synthesizer.fit(data=real_data)\n",
        "\n",
        "# synthetic_data = synthesizer.sample(num_rows=500)\n",
        "\n",
        "# synthesizer.save('synthetic_dataset.pkl')\n",
        "\n",
        "# synthesizer = SingleTablePreset.load('synthetic_dataset.pkl')\n",
        "# synthetic_data.to_csv('synthetic_dataset.csv', index=False)\n",
        "# synthetic_data.to_excel('synthetic_dataset.xlsx', index=False)"
      ]
    },
    {
      "cell_type": "markdown",
      "metadata": {
        "id": "rDu7bwbNRhaK"
      },
      "source": [
        "# ***2. Preprocess and perform exploratory data analysis of the dataset obtained***"
      ]
    },
    {
      "cell_type": "code",
      "execution_count": 91,
      "metadata": {},
      "outputs": [
        {
          "name": "stdout",
          "output_type": "stream",
          "text": [
            "Requirement already satisfied: numpy in c:\\users\\vishesh\\appdata\\roaming\\python\\python310\\site-packages (1.23.5)Note: you may need to restart the kernel to use updated packages.\n",
            "\n",
            "Requirement already satisfied: pandas in c:\\users\\vishesh\\appdata\\roaming\\python\\python310\\site-packages (1.5.2)\n",
            "Requirement already satisfied: python-dateutil>=2.8.1 in c:\\users\\vishesh\\appdata\\roaming\\python\\python310\\site-packages (from pandas) (2.8.2)\n",
            "Requirement already satisfied: pytz>=2020.1 in c:\\users\\vishesh\\appdata\\roaming\\python\\python310\\site-packages (from pandas) (2022.6)\n",
            "Requirement already satisfied: numpy>=1.21.0 in c:\\users\\vishesh\\appdata\\roaming\\python\\python310\\site-packages (from pandas) (1.23.5)\n",
            "Requirement already satisfied: six>=1.5 in c:\\users\\vishesh\\appdata\\roaming\\python\\python310\\site-packages (from python-dateutil>=2.8.1->pandas) (1.16.0)\n",
            "Note: you may need to restart the kernel to use updated packages.\n",
            "Requirement already satisfied: matplotlib in c:\\users\\vishesh\\.conda\\envs\\mlcourseenv\\lib\\site-packages (3.8.0)\n",
            "Requirement already satisfied: contourpy>=1.0.1 in c:\\users\\vishesh\\.conda\\envs\\mlcourseenv\\lib\\site-packages (from matplotlib) (1.1.1)\n",
            "Requirement already satisfied: cycler>=0.10 in c:\\users\\vishesh\\.conda\\envs\\mlcourseenv\\lib\\site-packages (from matplotlib) (0.11.0)\n",
            "Requirement already satisfied: fonttools>=4.22.0 in c:\\users\\vishesh\\.conda\\envs\\mlcourseenv\\lib\\site-packages (from matplotlib) (4.42.1)\n",
            "Requirement already satisfied: kiwisolver>=1.0.1 in c:\\users\\vishesh\\.conda\\envs\\mlcourseenv\\lib\\site-packages (from matplotlib) (1.4.5)\n",
            "Requirement already satisfied: numpy<2,>=1.21 in c:\\users\\vishesh\\appdata\\roaming\\python\\python310\\site-packages (from matplotlib) (1.23.5)\n",
            "Requirement already satisfied: packaging>=20.0 in c:\\users\\vishesh\\.conda\\envs\\mlcourseenv\\lib\\site-packages (from matplotlib) (23.1)\n",
            "Requirement already satisfied: pillow>=6.2.0 in c:\\users\\vishesh\\.conda\\envs\\mlcourseenv\\lib\\site-packages (from matplotlib) (10.0.1)\n",
            "Requirement already satisfied: pyparsing>=2.3.1 in c:\\users\\vishesh\\.conda\\envs\\mlcourseenv\\lib\\site-packages (from matplotlib) (3.1.1)\n",
            "Requirement already satisfied: python-dateutil>=2.7 in c:\\users\\vishesh\\appdata\\roaming\\python\\python310\\site-packages (from matplotlib) (2.8.2)\n",
            "Requirement already satisfied: six>=1.5 in c:\\users\\vishesh\\appdata\\roaming\\python\\python310\\site-packages (from python-dateutil>=2.7->matplotlib) (1.16.0)\n",
            "Note: you may need to restart the kernel to use updated packages.\n"
          ]
        }
      ],
      "source": [
        "# Installing Modules\n",
        "%pip install numpy\n",
        "%pip install pandas\n",
        "%pip install matplotlib"
      ]
    },
    {
      "cell_type": "code",
      "execution_count": 92,
      "metadata": {
        "id": "oAd4cNwERr90"
      },
      "outputs": [],
      "source": [
        "import pandas as pd\n",
        "import numpy as np\n",
        "import matplotlib.pyplot as plt\n",
        "from sklearn.impute import SimpleImputer\n",
        "# from sklearn.model_selection import train_test_split\n",
        "\n",
        "# Importing dataset and creating a dataframe using Pandas\n",
        "df = pd.read_csv('synthetic_dataset.csv')\n",
        "\n",
        "# Creating features Matrix X\n",
        "X = df.iloc[:, :-1].values\n",
        "# Creating Target Vector y\n",
        "y = df.iloc[:, -1].values\n",
        "\n",
        "# Handling Missing Data by replacing it with 0.\n",
        "df.isnull().sum()\n",
        "df = df.fillna(0)\n",
        "\n",
        "# Handling Outliers in the dataset using IQR Method\n",
        "q1 = df.quantile(0.25)\n",
        "q3 = df.quantile(0.75)\n",
        "IQR = q3 - q1\n",
        "\n",
        "lower_bound = q1 - 1.5 * IQR\n",
        "upper_bound = q3 + 1.5 * IQR\n",
        "\n",
        "outlier_rows = (df < lower_bound) | (df > upper_bound)\n",
        "df = df[~outlier_rows]\n",
        "\n",
        "ratio = 0.8\n",
        "total_rows = X.shape[0]\n",
        "train_size = int(total_rows*ratio)\n",
        "\n",
        "# Split data into test and train\n",
        "X_train = X[0:train_size]\n",
        "X_test = X[train_size:]\n",
        "ratio = 0.8\n",
        "total_rows = y.shape[0]\n",
        "train_size = int(total_rows*ratio)\n",
        "\n",
        "# Split data into test and train\n",
        "y_train = y[0:train_size]\n",
        "y_test = y[train_size:]\n",
        "# Splitting Data into test and train set\n",
        "# X_train, X_test, y_train, y_test = train_test_split(X, y, test_size=0.2, random_state=42)"
      ]
    },
    {
      "cell_type": "code",
      "execution_count": 93,
      "metadata": {
        "colab": {
          "base_uri": "https://localhost:8080/"
        },
        "id": "PrfoSFmVaVMO",
        "outputId": "1f4fca68-8d3c-45a2-9ae7-c1624a7c32c3"
      },
      "outputs": [
        {
          "name": "stdout",
          "output_type": "stream",
          "text": [
            "400\n"
          ]
        }
      ],
      "source": [
        "print(len(X_train))"
      ]
    },
    {
      "cell_type": "code",
      "execution_count": 94,
      "metadata": {
        "colab": {
          "base_uri": "https://localhost:8080/"
        },
        "id": "JHqWh_JgaXUr",
        "outputId": "15dc9600-6360-4b60-842b-e2c3fb2a8b2a"
      },
      "outputs": [
        {
          "name": "stdout",
          "output_type": "stream",
          "text": [
            "400\n"
          ]
        }
      ],
      "source": [
        "print(len(y_train))"
      ]
    },
    {
      "cell_type": "markdown",
      "metadata": {
        "id": "y81SQxOrRso5"
      },
      "source": [
        "# ***3. Comparison of Stochastic Gradient Descent and Batch Gradient Descent using Linear Regression***\n"
      ]
    },
    {
      "cell_type": "markdown",
      "metadata": {
        "id": "PZ84FzYKoc0O"
      },
      "source": [
        "**Some Utility Functions that are common to both Stochastic and Batch Gradient Descend Algorithm**"
      ]
    },
    {
      "cell_type": "code",
      "execution_count": 95,
      "metadata": {
        "id": "YN0DF059oTBF"
      },
      "outputs": [],
      "source": [
        "# This function is used to compute the value of cost function for a set of parameters w and b.\n",
        "def computeCostFunction(X, y, w, b):\n",
        "    m = X.shape[0]\n",
        "    cost = 0.0\n",
        "    for i in range(0, m):\n",
        "        predictedY = np.dot(X[i], w) + b\n",
        "        cost = cost + (predictedY - y[i]) ** 2\n",
        "\n",
        "    return cost"
      ]
    },
    {
      "cell_type": "markdown",
      "metadata": {
        "id": "PfpoDQzcoTlM"
      },
      "source": [
        "## **_Stochastic Gradient Descent_**"
      ]
    },
    {
      "cell_type": "markdown",
      "metadata": {
        "id": "BI87rNpaV0qJ"
      },
      "source": [
        "**Implementation of SGD**"
      ]
    },
    {
      "cell_type": "code",
      "execution_count": 96,
      "metadata": {
        "id": "OQ8CVHsER-Mh"
      },
      "outputs": [],
      "source": [
        "import math, copy, random\n",
        "# Edit another sgd function using number of rows:\n",
        "# This is the function that is used to compute the average gradient for given set of parameters.\n",
        "def computeGradientForASingleSample(X, y, w, b):\n",
        "    # m = number of training examples in the dataset\n",
        "    m = X.shape[0]\n",
        "    # n = number of featrues in the dataset\n",
        "    n = X.shape[1]\n",
        "\n",
        "    # Stores the gradient of the cost function for the parameters w.\n",
        "    gradientW = np.zeros((n,))\n",
        "    # Stores the gradient of the cost function for the parameters b.\n",
        "    gradientB = 0.0\n",
        "\n",
        "    i = random.randint(0, m - 1)\n",
        "\n",
        "    x = X[i]\n",
        "    actualY = y[i]\n",
        "    predictedY = np.dot(x, w) + b\n",
        "    errorValue = (predictedY - actualY)\n",
        "\n",
        "    for j in range(n):\n",
        "        gradientW[j] = gradientW[j] + (errorValue * X[i, j])\n",
        "\n",
        "    gradientB = gradientB + errorValue\n",
        "\n",
        "    return gradientW, gradientB\n",
        "\n",
        "def stochasticGradientDescendAlgorithm(X, y, wInitialVal, bInitialVal, alpha, Niterations):\n",
        "    # An array to store cost J and w's at each iteration primarily for graphing later\n",
        "    storeCostAndwForGraphing = []\n",
        "\n",
        "    # Values of Parameters\n",
        "    w = copy.deepcopy(wInitialVal)\n",
        "    b = bInitialVal\n",
        "\n",
        "    for i in range(0, Niterations):\n",
        "\n",
        "        # Calculate the gradient values and update the parameters\n",
        "        (djBYdb, djBYdw) = computeGradientForASingleSample(X, y, w, b)\n",
        "\n",
        "        # Update the value of the parameters and gradient\n",
        "        b = b - alpha * djBYdw\n",
        "        w = w - alpha * djBYdb\n",
        "\n",
        "        # Storing the cost J and value of the parameters for graphing purpose.\n",
        "        # If condition keeps a check to prevent overflow of resources.\n",
        "        if i<100000:\n",
        "            storeCostAndwForGraphing.append(computeCostFunction(X, y, w, b))\n",
        "\n",
        "        # Print cost every at intervals 10 times or as many iterations if < 10\n",
        "        # if i% math.ceil(Niterations / 10) == 0:\n",
        "        #     print(f\"Iteration {i:4d}: Cost {storeCostAndwForGraphing[-1]:8.2f}   \")\n",
        "\n",
        "    wOptiomal, bOptimal = w, b\n",
        "\n",
        "    return wOptiomal, bOptimal, storeCostAndwForGraphing"
      ]
    },
    {
      "cell_type": "markdown",
      "metadata": {
        "id": "3J6xqHttV6AV"
      },
      "source": [
        "**Calling SGD to train our model**"
      ]
    },
    {
      "cell_type": "code",
      "execution_count": 97,
      "metadata": {
        "id": "6EFg-JKZV5iS"
      },
      "outputs": [],
      "source": [
        "# m : Number of training examples\n",
        "# n : Number of features in the given dataset\n",
        "m, n = X_train.shape\n",
        "\n",
        "# Initializing values of b and w for gradient descend algorithm\n",
        "wInitialVal = np.array([1,1,1,1,1,1,1,1])\n",
        "bInitialVal = 0.256\n",
        "\n",
        "# Total number of iteration\n",
        "iterations = 1000\n",
        "\n",
        "# Learning Rate of our gradient Descend\n",
        "alpha = 5.0e-7\n",
        "\n",
        "# Running gradient descent algorithm\n",
        "wFinalValSGD, bFinalValSGD, costHistoryStoreSGD = stochasticGradientDescendAlgorithm(X_train, y_train, wInitialVal, bInitialVal, alpha, iterations)"
      ]
    },
    {
      "cell_type": "code",
      "execution_count": 98,
      "metadata": {
        "colab": {
          "base_uri": "https://localhost:8080/"
        },
        "id": "F--zJijxm7k7",
        "outputId": "23a09043-1bdd-433e-e684-76277a7ff6e2"
      },
      "outputs": [
        {
          "name": "stdout",
          "output_type": "stream",
          "text": [
            "The Values of w: [ 0.93719269 -0.37746014 -0.0158631   0.63461539 -0.03575239  0.55947266\n",
            "  0.99281411  0.52080534]\n",
            "The Value of b: 0.2426681958797506\n"
          ]
        }
      ],
      "source": [
        "print(f\"The Values of w: {wFinalValSGD}\\nThe Value of b: {bFinalValSGD}\")"
      ]
    },
    {
      "cell_type": "markdown",
      "metadata": {
        "id": "HqIC34nWR-n7"
      },
      "source": [
        "## **_Batch Gradient Descent_**"
      ]
    },
    {
      "cell_type": "markdown",
      "metadata": {
        "id": "gQRsLGCoWXgx"
      },
      "source": [
        "**Implementation of BGD**"
      ]
    },
    {
      "cell_type": "code",
      "execution_count": 99,
      "metadata": {
        "id": "-hA5FysjSBzj"
      },
      "outputs": [],
      "source": [
        "import math, copy, random\n",
        "\n",
        "# This is the function that is used to compute the average gradient for given set of parameters.\n",
        "def computeGradientForAllm(X, y, w, b):\n",
        "    # m = number of training examples in the dataset\n",
        "    m = X.shape[0]\n",
        "    # n = number of featrues in the dataset\n",
        "    n = X.shape[1]\n",
        "\n",
        "    # Stores the gradient of the cost function for the parameters w.\n",
        "    gradientW = np.zeros((n,))\n",
        "    # Stores the gradient of the cost function for the parameters b.\n",
        "    gradientB = 0.0\n",
        "\n",
        "    for i in range(m):\n",
        "        x = X[i]\n",
        "        actualY = y[i]\n",
        "        predictedY = np.dot(x, w) + b\n",
        "        errorValue = (predictedY - actualY)\n",
        "\n",
        "        for j in range(n):\n",
        "            gradientW[j] = gradientW[j] + (errorValue * X[i, j])\n",
        "\n",
        "        gradientB = gradientB + errorValue\n",
        "\n",
        "    # Taking the average of the gradient values for all the parameters.\n",
        "    gradientW = gradientW / m\n",
        "    gradientB = gradientB / m\n",
        "\n",
        "    return gradientW, gradientB\n",
        "\n",
        "def batchGradientDescendAlgorithm(X, y, wInitialVal, bInitialVal, alpha, Niterations, computeGradientFunction, computeCostFx):\n",
        "    # An array to store cost J and w's at each iteration primarily for graphing later\n",
        "    storeCostAndwForGraphing = []\n",
        "\n",
        "    # Values of Parameters\n",
        "    w = copy.deepcopy(wInitialVal)\n",
        "    b = bInitialVal\n",
        "\n",
        "    for i in range(0, Niterations):\n",
        "\n",
        "        # Calculate the gradient values and update the parameters\n",
        "        (djBYdb, djBYdw) = computeGradientFunction(X, y, w, b)\n",
        "\n",
        "        # Update the value of the parameters and gradient\n",
        "        w = w - alpha * djBYdb\n",
        "        b = b - alpha * djBYdw\n",
        "\n",
        "        # Storing the cost J and value of the parameters for graphing purpose.\n",
        "        # If condition keeps a check to prevent overflow of resources.\n",
        "        if i<100000:\n",
        "            storeCostAndwForGraphing.append(computeCostFx(X, y, w, b))\n",
        "\n",
        "        # Print cost every at intervals 10 times or as many iterations if < 10\n",
        "        # if i% math.ceil(Niterations / 10) == 0:\n",
        "        #     print(f\"Iteration {i:4d}: Cost {storeCostAndwForGraphing[-1]:8.2f}   \")\n",
        "\n",
        "    wOptiomal, bOptimal = w, b\n",
        "\n",
        "    return wOptiomal, bOptimal, storeCostAndwForGraphing"
      ]
    },
    {
      "cell_type": "markdown",
      "metadata": {
        "id": "ApTT8-ThWcir"
      },
      "source": [
        "**Calling BGD Algorithm to train our model**"
      ]
    },
    {
      "cell_type": "code",
      "execution_count": 100,
      "metadata": {
        "id": "Jh4iYPR5Wf6F"
      },
      "outputs": [],
      "source": [
        "# m : Number of training examples\n",
        "# cn : Number of features in the given dataset\n",
        "m, n = X_train.shape\n",
        "\n",
        "# Initializing values for gradient descend algorithm\n",
        "wInitialVal = np.array([1,1,1,1,1,1,1,1])\n",
        "bInitialVal = 0.256\n",
        "\n",
        "\n",
        "# Total number of iteration\n",
        "iterations = 1000\n",
        "\n",
        "# Learning Rate of our gradient Descend\n",
        "alpha = 5.0e-7\n",
        "\n",
        "# Running gradient descent algorithm\n",
        "wFinalValBGD, bFinalValBGD, costHistoryStoreBGD = batchGradientDescendAlgorithm(X_train, y_train, wInitialVal, bInitialVal, alpha, iterations, computeGradientForAllm, computeCostFunction)"
      ]
    },
    {
      "cell_type": "code",
      "execution_count": 101,
      "metadata": {
        "colab": {
          "base_uri": "https://localhost:8080/"
        },
        "id": "KHj9QuEGnObZ",
        "outputId": "4997887a-c7e7-404b-cb7e-284718e4fa58"
      },
      "outputs": [
        {
          "name": "stdout",
          "output_type": "stream",
          "text": [
            "The Values of w: [ 0.94037716 -0.40470782  0.0108667   0.64523894 -0.0367647   0.55006136\n",
            "  0.9931389   0.52803762]\n",
            "The Value of b: 0.24291071615267512\n"
          ]
        }
      ],
      "source": [
        "print(f\"The Values of w: {wFinalValBGD}\\nThe Value of b: {bFinalValBGD}\")"
      ]
    },
    {
      "cell_type": "markdown",
      "metadata": {
        "id": "8g7NxS5sSCRv"
      },
      "source": [
        "## **_Insights drawn (plots, markdown explanations)_**"
      ]
    },
    {
      "cell_type": "markdown",
      "metadata": {
        "id": "12AjZVbbh0bx"
      },
      "source": [
        "**Cost vs Iteration Plot for Stochastic & Batch Gradient Descend Algorithm**"
      ]
    },
    {
      "cell_type": "code",
      "execution_count": 102,
      "metadata": {
        "colab": {
          "base_uri": "https://localhost:8080/",
          "height": 384
        },
        "id": "ibKbMePrhz3U",
        "outputId": "61328b62-65ab-4631-f350-e2a1aef09633"
      },
      "outputs": [
        {
          "data": {
            "image/png": "[encoded data removed]",
            "text/plain": [
              "<Figure size 1400x400 with 2 Axes>"
            ]
          },
          "metadata": {},
          "output_type": "display_data"
        }
      ],
      "source": [
        "fig, (SGDcurve, BGDcurve) = plt.subplots(1, 2, constrained_layout=True, figsize=(14, 4))\n",
        "SGDcurve.plot(costHistoryStoreSGD)\n",
        "BGDcurve.plot(costHistoryStoreBGD)\n",
        "SGDcurve.set_title(\"Stochastic Gradient Descend Cost vs. Iteration\");  BGDcurve.set_title(\"Batch Gradient Descend Cost vs. Iteration\")\n",
        "SGDcurve.set_ylabel('Cost Value')             ;  BGDcurve.set_ylabel('Cost Value')\n",
        "SGDcurve.set_xlabel('Number of Iterations')   ;  BGDcurve.set_xlabel('Number of Iterations')\n",
        "plt.show()"
      ]
    },
    {
      "cell_type": "markdown",
      "metadata": {
        "id": "yGRVwWfjjOxG"
      },
      "source": [
        "###**Explaination of Above Results**\n",
        "\n",
        "**The major difference between the batch and stochastic gradient descend**\n",
        "\n",
        "The Batch gradient descend algorithm calculates gradient by computing gradient for all the training examples and taking the average of all the m computed gradients. The Stochastic Gradinet Descend Algorithm on the other hand picks one of the training example randomly and computes its gradient to update the parameters.\n",
        "\n",
        "**Major difference between the two Curves**\n",
        "\n",
        "1. The Curve of Batch Gradient Descent is much more smoother than Stochastic Gradient Descend which is noisy and have many fluctuations. In BGD, the cost descreases gradually and it converges to a minimum value while the cost increase or descrease in less predictable manner in SGD.\n",
        "\n",
        "2. The BGD is much slower to converse when dealing with large dataset as it computes gradient for all m training examples while the SDG converges faster but is more noisy and less predictable"
      ]
    },
    {
      "cell_type": "markdown",
      "metadata": {
        "id": "hKsCzFDhnZaL"
      },
      "source": [
        "###**Comparing Costs for Test Set**"
      ]
    },
    {
      "cell_type": "markdown",
      "metadata": {
        "id": "FBgfaUJwmzwQ"
      },
      "source": [
        "**Cost of Test Set for Model Trainied with Stochastic Gradient Descend**"
      ]
    },
    {
      "cell_type": "code",
      "execution_count": 103,
      "metadata": {
        "colab": {
          "base_uri": "https://localhost:8080/"
        },
        "id": "mwmtLvIIoO4h",
        "outputId": "06b5ede3-9013-45bb-cdfb-a2375f00ab84"
      },
      "outputs": [
        {
          "name": "stdout",
          "output_type": "stream",
          "text": [
            "20578.675009942413\n"
          ]
        }
      ],
      "source": [
        "costTestSetSGD = computeCostFunction(X_test, y_test, wFinalValSGD, bFinalValSGD)\n",
        "print(costTestSetSGD)"
      ]
    },
    {
      "cell_type": "markdown",
      "metadata": {
        "id": "28DmGgqKo5MT"
      },
      "source": [
        "**Cost of Test Set for Model Trainied with Batch Gradient Descend**"
      ]
    },
    {
      "cell_type": "code",
      "execution_count": 104,
      "metadata": {
        "colab": {
          "base_uri": "https://localhost:8080/"
        },
        "id": "0LgrZY2-oyiT",
        "outputId": "90a03579-65f3-4ec3-88aa-54156e345a97"
      },
      "outputs": [
        {
          "name": "stdout",
          "output_type": "stream",
          "text": [
            "21937.058019510863\n"
          ]
        }
      ],
      "source": [
        "costTestSetBGD = computeCostFunction(X_test, y_test, wFinalValBGD, bFinalValBGD)\n",
        "print(costTestSetBGD)"
      ]
    },
    {
      "cell_type": "markdown",
      "metadata": {
        "id": "zPTDBZNIo7yL"
      },
      "source": [
        "**Plotting the results**"
      ]
    },
    {
      "cell_type": "code",
      "execution_count": 105,
      "metadata": {
        "colab": {
          "base_uri": "https://localhost:8080/",
          "height": 472
        },
        "id": "1twy9RmnpPRC",
        "outputId": "da8142b2-4867-44e4-f282-87d4b8dacc1c"
      },
      "outputs": [
        {
          "data": {
            "image/png": "[encoded data removed]",
            "text/plain": [
              "<Figure size 640x480 with 1 Axes>"
            ]
          },
          "metadata": {},
          "output_type": "display_data"
        }
      ],
      "source": [
        "fig, ax = plt.subplots()\n",
        "\n",
        "# Plot markers for number1 and number2\n",
        "ax.plot(costTestSetSGD, 0, marker='o', markersize=8, color='blue', label='Cost for SGD trained model')\n",
        "ax.plot(costTestSetBGD, 0, marker='s', markersize=8, color='red', label='Cost for BGD trained model')\n",
        "\n",
        "# Add a legend\n",
        "ax.legend()\n",
        "\n",
        "# Set ticks and labels for the number line\n",
        "ax.set_xticks([costTestSetSGD, costTestSetBGD])\n",
        "ax.set_yticks([])  # Remove y-axis ticks\n",
        "ax.set_xticklabels([costTestSetSGD, costTestSetBGD])\n",
        "\n",
        "# Add labels and title\n",
        "ax.set_xlabel('Cost Value')\n",
        "ax.set_title('Comparing Cost for both model')\n",
        "\n",
        "# Show the plot\n",
        "plt.grid(True)\n",
        "plt.show()\n"
      ]
    },
    {
      "cell_type": "markdown",
      "metadata": {
        "id": "obBJ-Zk9qSYQ"
      },
      "source": [
        "**Results**\n",
        "\n",
        "We can see that the cost for SGD trained model is lower than the BGD model in this case. But we cannot generalize this result as the overall cost depends on the dataset, learning rate, model etc."
      ]
    },
    {
      "cell_type": "markdown",
      "metadata": {
        "id": "2p-mPVFCSe9V"
      },
      "source": [
        "# **_4. Comparison of Lasso and Ridge Regression using Polynomial Regression_**"
      ]
    },
    {
      "cell_type": "markdown",
      "metadata": {
        "id": "eMSOhJGCNNrO"
      },
      "source": [
        "**Adding Polynomial Features to our dataset**\n",
        "\n",
        "We are adding polynomial ranging from degree 1 to 10 for all the existing features of the dataset. Therefore, our new dataset has 80 features. Making it a polynomial regression.\n",
        "\n"
      ]
    },
    {
      "cell_type": "code",
      "execution_count": 106,
      "metadata": {
        "id": "c3Z6Zt7cNM6N"
      },
      "outputs": [],
      "source": [
        "X_trainReg = X_train.copy() # Creating Deep copy of the variable\n",
        "X_testReg = X_test.copy() # Creating Deep copy of the variable\n",
        "\n",
        "# Adding polynomial features to train set\n",
        "for pow in range(2,11):\n",
        "    newColumns = X_train ** pow\n",
        "    X_trainReg = np.hstack((X_trainReg, newColumns))\n",
        "\n",
        "# Adding polynomial features to test set\n",
        "for pow in range(2,11):\n",
        "    newColumns = X_test ** pow\n",
        "    X_testReg = np.hstack((X_testReg, newColumns))"
      ]
    },
    {
      "cell_type": "code",
      "execution_count": 107,
      "metadata": {
        "colab": {
          "base_uri": "https://localhost:8080/"
        },
        "id": "V2gdAgUyrpVp",
        "outputId": "8c2da2ba-57b3-4fa3-fb17-2fa4f03f3ced"
      },
      "outputs": [
        {
          "name": "stdout",
          "output_type": "stream",
          "text": [
            "Total Number of Features in modified Dataset: 80\n"
          ]
        }
      ],
      "source": [
        "print(f\"Total Number of Features in modified Dataset: {X_trainReg.shape[1]}\")"
      ]
    },
    {
      "cell_type": "code",
      "execution_count": 108,
      "metadata": {
        "colab": {
          "base_uri": "https://localhost:8080/"
        },
        "id": "N6yLKyaur3zX",
        "outputId": "5ce5969a-5828-4d55-ac24-6b3ac45224af"
      },
      "outputs": [
        {
          "name": "stdout",
          "output_type": "stream",
          "text": [
            "[[7.00000000e+00 1.49000000e+02 9.60000000e+01 ... 6.94845156e+15\n",
            "  3.10591448e-03 1.04857600e+16]\n",
            " [0.00000000e+00 1.51000000e+02 4.40000000e+01 ... 1.48155050e+14\n",
            "  4.62167878e-04 2.05891132e+14]\n",
            " [3.00000000e+00 1.69000000e+02 5.70000000e+01 ... 1.63905708e+15\n",
            "  2.16217997e-03 3.65615844e+15]\n",
            " ...\n",
            " [5.00000000e+00 4.70000000e+01 7.60000000e+01 ... 3.23468678e+15\n",
            "  4.50939061e-05 4.20707233e+14]\n",
            " [5.00000000e+00 8.80000000e+01 5.00000000e+01 ... 3.50966382e+13\n",
            "  5.57067284e-10 8.19628287e+14]\n",
            " [1.00000000e+00 1.14000000e+02 5.80000000e+01 ... 3.12288023e+11\n",
            "  1.73845308e-04 4.20707233e+14]]\n"
          ]
        }
      ],
      "source": [
        "print(X_trainReg)"
      ]
    },
    {
      "cell_type": "code",
      "execution_count": 109,
      "metadata": {
        "colab": {
          "base_uri": "https://localhost:8080/"
        },
        "id": "z3vNaa31r6DL",
        "outputId": "53f4426a-956d-4fa9-f7d9-7948e333498f"
      },
      "outputs": [
        {
          "name": "stdout",
          "output_type": "stream",
          "text": [
            "[[9.00000000e+00 1.38000000e+02 7.10000000e+01 ... 3.52351863e+14\n",
            "  5.05050928e+00 1.12589991e+15]\n",
            " [2.00000000e+00 1.10000000e+02 5.40000000e+01 ... 3.71285118e+14\n",
            "  2.61073660e-01 4.80858437e+15]\n",
            " [6.00000000e+00 7.50000000e+01 9.20000000e+01 ... 3.94649516e+13\n",
            "  5.12892129e-07 4.24207475e+16]\n",
            " ...\n",
            " [4.00000000e+00 1.81000000e+02 3.50000000e+01 ... 2.86884024e+15\n",
            "  2.42191283e-04 2.75854735e+15]\n",
            " [4.00000000e+00 1.52000000e+02 8.10000000e+01 ... 4.42653627e+15\n",
            "  1.38954770e-01 3.40506289e+16]\n",
            " [1.00000000e+00 1.09000000e+02 5.50000000e+01 ... 1.02580991e+16\n",
            "  1.89870434e-02 1.66798810e+13]]\n"
          ]
        }
      ],
      "source": [
        "print(X_testReg)"
      ]
    },
    {
      "cell_type": "markdown",
      "metadata": {
        "id": "pNuv9A96sG59"
      },
      "source": [
        "**Normalizing the dataset**\n",
        "\n",
        "We are normalizing the dataset because we are now dealing with polynomial regression and calucluate 10th power of a feature is causing overflow. So we are handling it using the normalization technique.\n",
        "\n",
        "Apart from it normalization also has many other benifits."
      ]
    },
    {
      "cell_type": "code",
      "execution_count": 110,
      "metadata": {
        "id": "XX3oufQx1aey"
      },
      "outputs": [],
      "source": [
        "# Computing the mean of dataset\n",
        "mu = np.mean(X_trainReg)\n",
        "# Computing the standard deviation of the dataset\n",
        "sigma = np.std(X_trainReg)\n",
        "\n",
        "X_trainReg = (X_trainReg - mu) / sigma\n",
        "X_testReg = (X_testReg - mu) / sigma"
      ]
    },
    {
      "cell_type": "code",
      "execution_count": 111,
      "metadata": {
        "colab": {
          "base_uri": "https://localhost:8080/"
        },
        "id": "cyyoIK5H1qHS",
        "outputId": "4bccf80c-c50a-498f-aecf-5d86b7ded33d"
      },
      "outputs": [
        {
          "data": {
            "text/plain": [
              "array([[-0.0193405 , -0.0193405 , -0.0193405 , ..., -0.01934049,\n",
              "        -0.0193405 , -0.01934048],\n",
              "       [-0.0193405 , -0.0193405 , -0.0193405 , ..., -0.0193405 ,\n",
              "        -0.0193405 , -0.0193405 ],\n",
              "       [-0.0193405 , -0.0193405 , -0.0193405 , ..., -0.0193405 ,\n",
              "        -0.0193405 , -0.0193405 ],\n",
              "       ...,\n",
              "       [-0.0193405 , -0.0193405 , -0.0193405 , ..., -0.0193405 ,\n",
              "        -0.0193405 , -0.0193405 ],\n",
              "       [-0.0193405 , -0.0193405 , -0.0193405 , ..., -0.0193405 ,\n",
              "        -0.0193405 , -0.0193405 ],\n",
              "       [-0.0193405 , -0.0193405 , -0.0193405 , ..., -0.0193405 ,\n",
              "        -0.0193405 , -0.0193405 ]])"
            ]
          },
          "execution_count": 111,
          "metadata": {},
          "output_type": "execute_result"
        }
      ],
      "source": [
        "X_trainReg"
      ]
    },
    {
      "cell_type": "code",
      "execution_count": 112,
      "metadata": {
        "colab": {
          "base_uri": "https://localhost:8080/"
        },
        "id": "LCgyjwRZtNqI",
        "outputId": "b819b6b5-490e-4fc3-bf3f-43be5a6055cd"
      },
      "outputs": [
        {
          "data": {
            "text/plain": [
              "array([[-0.0193405 , -0.0193405 , -0.0193405 , ..., -0.0193405 ,\n",
              "        -0.0193405 , -0.0193405 ],\n",
              "       [-0.0193405 , -0.0193405 , -0.0193405 , ..., -0.0193405 ,\n",
              "        -0.0193405 , -0.01934049],\n",
              "       [-0.0193405 , -0.0193405 , -0.0193405 , ..., -0.0193405 ,\n",
              "        -0.0193405 , -0.01934042],\n",
              "       ...,\n",
              "       [-0.0193405 , -0.0193405 , -0.0193405 , ..., -0.0193405 ,\n",
              "        -0.0193405 , -0.0193405 ],\n",
              "       [-0.0193405 , -0.0193405 , -0.0193405 , ..., -0.01934049,\n",
              "        -0.0193405 , -0.01934044],\n",
              "       [-0.0193405 , -0.0193405 , -0.0193405 , ..., -0.01934048,\n",
              "        -0.0193405 , -0.0193405 ]])"
            ]
          },
          "execution_count": 112,
          "metadata": {},
          "output_type": "execute_result"
        }
      ],
      "source": [
        "X_testReg"
      ]
    },
    {
      "cell_type": "markdown",
      "metadata": {
        "id": "YMh8Ls5v9JDU"
      },
      "source": [
        "**Lambda Value for Regularization**"
      ]
    },
    {
      "cell_type": "code",
      "execution_count": 113,
      "metadata": {
        "id": "JIG-Myud9Lyn"
      },
      "outputs": [],
      "source": [
        "lambdaVal = 0.5"
      ]
    },
    {
      "cell_type": "markdown",
      "metadata": {
        "id": "UhH4VdCyNLmt"
      },
      "source": [
        "## **_Lasso Regression_**"
      ]
    },
    {
      "cell_type": "markdown",
      "metadata": {
        "id": "3zJoDCBe9EYQ"
      },
      "source": [
        "**Implementing Lasso Regression**"
      ]
    },
    {
      "cell_type": "code",
      "execution_count": 114,
      "metadata": {
        "id": "LTjoKWdNSpcE"
      },
      "outputs": [],
      "source": [
        "# This function is used to compute the value of cost function along with the L1 Regularization for a set of parameters w and b.\n",
        "def computeCostFunctionL1Reg(X, y, w, b):\n",
        "    m = X.shape[0]\n",
        "    cost = 0.0\n",
        "    for i in range(0, m):\n",
        "        predictedY = np.dot(X[i], w) + b\n",
        "        cost = cost + (predictedY - y[i]) ** 2\n",
        "\n",
        "    cost = cost + lambdaVal * np.sum(np.abs(w))\n",
        "\n",
        "    return cost\n",
        "\n",
        "\n",
        "# This function calculates the gradient by adding an L1 Regularization term to the final value\n",
        "def computeGradientWithL1(X, y, w, b):\n",
        "    # m : Number of training examples and n : Number of features in the given dataset\n",
        "    m = X.shape[0]\n",
        "    n = X.shape[1]\n",
        "\n",
        "    gradientW = np.zeros((n,))\n",
        "    gradientB = 0.0\n",
        "\n",
        "    for i in range(m):\n",
        "        x = X[i]\n",
        "        actualY = y[i]\n",
        "        predictedY = np.dot(x, w) + b\n",
        "        errorValue = (predictedY - actualY)\n",
        "\n",
        "        for j in range(n):\n",
        "          gradientW[j] = gradientW[j] + (errorValue * X[i, j])\n",
        "\n",
        "        gradientB = gradientB + errorValue\n",
        "\n",
        "    # L1 regularization penalty term for gradientW\n",
        "    for j in range(n):\n",
        "      if w[j] != 0:\n",
        "        gradientW[j] = gradientW[j] + (w[j] / abs(w[j])) * lambdaVal\n",
        "\n",
        "\n",
        "    gradientW = gradientW / m\n",
        "    gradientB = gradientB / m\n",
        "\n",
        "    return gradientW, gradientB"
      ]
    },
    {
      "cell_type": "markdown",
      "metadata": {
        "id": "0GfLq2v_9R_D"
      },
      "source": [
        "**Training Lasso Regression using batch gradient descend algorithm**"
      ]
    },
    {
      "cell_type": "code",
      "execution_count": 115,
      "metadata": {
        "id": "c0jQXwPt9XDV"
      },
      "outputs": [],
      "source": [
        "# m : Number of training examples and n : Number of features in the given dataset\n",
        "m, n = X_trainReg.shape\n",
        "\n",
        "\n",
        "# Initializing values for gradient descend algorithm\n",
        "wInitialVal = np.zeros(n, )\n",
        "bInitialVal = 0.256\n",
        "\n",
        "\n",
        "# Total number of iteration\n",
        "iterations = 1000\n",
        "\n",
        "# Learning Rate of our gradient Descend\n",
        "alpha = 5.0e-3\n",
        "\n",
        "# run gradient descent\n",
        "wFinalValLasso, bFinalValLasso, costHistoryStoreLasso = batchGradientDescendAlgorithm(X_trainReg, y_train, wInitialVal, bInitialVal, alpha, iterations, computeGradientWithL1, computeCostFunctionL1Reg)\n"
      ]
    },
    {
      "cell_type": "code",
      "execution_count": 116,
      "metadata": {
        "colab": {
          "base_uri": "https://localhost:8080/"
        },
        "id": "x1EPd6yeVhO9",
        "outputId": "473dd4e6-7272-4f44-b5ea-0ff0623505f2"
      },
      "outputs": [
        {
          "name": "stdout",
          "output_type": "stream",
          "text": [
            "The Values of w: [-5.68680721e-06 -5.68680721e-06 -5.68680721e-06 -5.68680721e-06\n",
            " -5.68680721e-06 -5.68680721e-06 -5.68680721e-06 -5.68680721e-06\n",
            " -5.68680721e-06 -5.68680721e-06 -5.68680721e-06 -5.68680721e-06\n",
            " -5.68680721e-06 -5.68680721e-06 -5.68680721e-06 -5.68680721e-06\n",
            " -5.68680721e-06 -5.68680721e-06 -5.68680721e-06 -5.68680721e-06\n",
            " -5.68680721e-06 -5.68680721e-06 -5.68680721e-06 -5.68680721e-06\n",
            " -5.68680721e-06 -5.68680721e-06 -5.68680721e-06 -5.68680721e-06\n",
            " -5.68680721e-06 -5.68680721e-06 -5.68680721e-06 -5.68680721e-06\n",
            " -5.68680721e-06 -5.68680711e-06 -5.68680721e-06 -5.68680721e-06\n",
            " -5.68680701e-06 -5.68680721e-06 -5.68680721e-06 -5.68680721e-06\n",
            " -5.68680721e-06 -5.68678999e-06 -5.68680701e-06 -5.68680721e-06\n",
            " -5.68676025e-06 -5.68680721e-06 -5.68680721e-06 -5.68680721e-06\n",
            " -5.68680721e-06 -5.68377699e-06 -5.68678418e-06 -5.68680712e-06\n",
            " -5.67605510e-06 -5.68680699e-06 -5.68680721e-06 -5.68680704e-06\n",
            " -5.68680721e-06 -5.14706168e-06 -5.68417704e-06 -5.68680253e-06\n",
            " -3.45058894e-06 -5.68679616e-06 -5.68680721e-06 -5.68679991e-06\n",
            " -5.68680721e-06  4.12795808e-06 -5.38381429e-06 -5.68656601e-06\n",
            " -2.38234025e-06 -5.68625040e-06 -5.68680721e-06 -5.68650893e-06\n",
            " -5.68680722e-06  9.87907074e-03  4.47896638e-06 -5.67424981e-06\n",
            "  4.58916392e-03 -5.65818160e-06 -5.68680721e-06 -5.67657288e-06]\n",
            "The Value of b: 0.3399914431600514\n"
          ]
        }
      ],
      "source": [
        "print(f\"The Values of w: {wFinalValLasso}\\nThe Value of b: {bFinalValLasso}\")"
      ]
    },
    {
      "cell_type": "markdown",
      "metadata": {
        "id": "Dr-p_RtzSqUF"
      },
      "source": [
        "## **_Ridge Regression_**"
      ]
    },
    {
      "cell_type": "markdown",
      "metadata": {
        "id": "svnkRuL99rPe"
      },
      "source": [
        "**Implementing Ridge Regression**"
      ]
    },
    {
      "cell_type": "code",
      "execution_count": 117,
      "metadata": {
        "id": "aWqMiCzVSuAD"
      },
      "outputs": [],
      "source": [
        "# This function is used to compute the value of cost function along with the L2 Regularization for a set of parameters w and b.\n",
        "def computeCostFunctionL2Reg(X, y, w, b):\n",
        "    m = X.shape[0]\n",
        "    cost = 0.0\n",
        "    for i in range(0, m):\n",
        "        predictedY = np.dot(X[i], w) + b\n",
        "        cost = cost + (predictedY - y[i]) ** 2\n",
        "\n",
        "    cost = cost + (lambdaVal / (2 * m)) * np.sum(w ** 2)\n",
        "\n",
        "    return cost\n",
        "\n",
        "\n",
        "# This function calculates the gradient by adding an L2 Regularization term to the final value\n",
        "def computeGradientWithL2(X, y, w, b):\n",
        "    m = X.shape[0]\n",
        "    n = X.shape[1]\n",
        "\n",
        "    gradientW = np.zeros((n,))\n",
        "    gradientB = 0.0\n",
        "\n",
        "    for i in range(m):\n",
        "        x = X[i]\n",
        "        actualY = y[i]\n",
        "        predictedY = np.dot(x, w) + b\n",
        "        errorValue = (predictedY - actualY)\n",
        "\n",
        "        for j in range(n):\n",
        "            gradientW[j] = gradientW[j] + (errorValue * X[i, j])\n",
        "\n",
        "        gradientB = gradientB + errorValue\n",
        "\n",
        "    # L2 regularization penalty term for gradientW\n",
        "    for j in range(n):\n",
        "        gradientW[j] = gradientW[j] + 2 * lambdaVal * w[j]\n",
        "\n",
        "    gradientW = gradientW / m\n",
        "    gradientB = gradientB / m\n",
        "    return gradientW, gradientB"
      ]
    },
    {
      "cell_type": "markdown",
      "metadata": {
        "id": "8rOkam6G9rPe"
      },
      "source": [
        "**Training Ridge Regression using batch gradient descend algorithm**"
      ]
    },
    {
      "cell_type": "code",
      "execution_count": 118,
      "metadata": {
        "id": "IkeGfw7o9rPe"
      },
      "outputs": [],
      "source": [
        "# m : Number of training examples and n : Number of features in the given dataset\n",
        "m, n = X_trainReg.shape\n",
        "\n",
        "# Initializing values for gradient descend algorithm\n",
        "wInitialVal = np.zeros(n, )\n",
        "bInitialVal = 0.256\n",
        "\n",
        "# Total number of iteration\n",
        "iterations = 1000\n",
        "\n",
        "# Learning Rate of our gradient Descend\n",
        "alpha = 5.0e-3\n",
        "\n",
        "# run gradient descent\n",
        "wFinalValRidge, bFinalValRidge, costHistoryStoreRidge = batchGradientDescendAlgorithm(X_trainReg, y_train, wInitialVal, bInitialVal, alpha, iterations, computeGradientWithL2, computeCostFunctionL2Reg)"
      ]
    },
    {
      "cell_type": "code",
      "execution_count": 119,
      "metadata": {
        "colab": {
          "base_uri": "https://localhost:8080/"
        },
        "id": "4a9UC_Xm-hl-",
        "outputId": "b7b0be95-8f84-48e2-f90f-734cec9e2811"
      },
      "outputs": [
        {
          "name": "stdout",
          "output_type": "stream",
          "text": [
            "The Values of w: [-0.00156505 -0.00156505 -0.00156505 -0.00156505 -0.00156505 -0.00156505\n",
            " -0.00156505 -0.00156505 -0.00156505 -0.00156505 -0.00156505 -0.00156505\n",
            " -0.00156505 -0.00156505 -0.00156505 -0.00156505 -0.00156505 -0.00156505\n",
            " -0.00156505 -0.00156505 -0.00156505 -0.00156505 -0.00156505 -0.00156505\n",
            " -0.00156505 -0.00156505 -0.00156505 -0.00156505 -0.00156505 -0.00156505\n",
            " -0.00156505 -0.00156505 -0.00156505 -0.00156505 -0.00156505 -0.00156505\n",
            " -0.00156505 -0.00156505 -0.00156505 -0.00156505 -0.00156505 -0.00156505\n",
            " -0.00156505 -0.00156505 -0.00156505 -0.00156505 -0.00156505 -0.00156505\n",
            " -0.00156505 -0.00156504 -0.00156505 -0.00156505 -0.00156504 -0.00156505\n",
            " -0.00156505 -0.00156505 -0.00156505 -0.00156451 -0.00156504 -0.00156505\n",
            " -0.00156288 -0.00156505 -0.00156505 -0.00156505 -0.00156505 -0.00146858\n",
            " -0.00156475 -0.00156505 -0.00122003 -0.00156505 -0.00156505 -0.00156505\n",
            " -0.00156505  0.01602909 -0.00153026 -0.00156503  0.00460426 -0.00156502\n",
            " -0.00156505 -0.00156504]\n",
            "The Value of b: 0.33774011032885554\n"
          ]
        }
      ],
      "source": [
        "print(f\"The Values of w: {wFinalValRidge}\\nThe Value of b: {bFinalValRidge}\")"
      ]
    },
    {
      "cell_type": "markdown",
      "metadata": {
        "id": "FlUMAWsiSug9"
      },
      "source": [
        "## **_Insights drawn (plots, markdown explanations)_**"
      ]
    },
    {
      "cell_type": "markdown",
      "metadata": {
        "id": "b2_PI7j68qoT"
      },
      "source": [
        "**Cost vs Iteration Plot for Lasso & Ridge Regularization**"
      ]
    },
    {
      "cell_type": "code",
      "execution_count": 120,
      "metadata": {
        "colab": {
          "base_uri": "https://localhost:8080/",
          "height": 384
        },
        "id": "L8PDGKni8qoa",
        "outputId": "93b84bb7-b0a5-49d0-e505-3533dc45c299"
      },
      "outputs": [
        {
          "data": {
            "image/png": "[encoded data removed]",
            "text/plain": [
              "<Figure size 1400x400 with 2 Axes>"
            ]
          },
          "metadata": {},
          "output_type": "display_data"
        }
      ],
      "source": [
        "fig, (Lassocurve, Ridgecurve) = plt.subplots(1, 2, constrained_layout=True, figsize=(14, 4))\n",
        "Lassocurve.plot(costHistoryStoreLasso)\n",
        "Ridgecurve.plot(costHistoryStoreRidge)\n",
        "Lassocurve.set_title(\"Lasso Regression Cost vs. Iteration\");  Ridgecurve.set_title(\"Ridge Regression Cost vs. Iteration\")\n",
        "Lassocurve.set_ylabel('Cost Value')             ;  Ridgecurve.set_ylabel('Cost Value')\n",
        "Lassocurve.set_xlabel('Number of Iterations')   ;  Ridgecurve.set_xlabel('Number of Iterations')\n",
        "plt.show()"
      ]
    },
    {
      "cell_type": "markdown",
      "metadata": {
        "id": "LZjmi5188qoa"
      },
      "source": [
        "###**Explaination of Above Results**\n",
        "\n",
        "**The major difference between the Lasso and Ridge Regularization**\n",
        "\n",
        "1. The penalty term that is used in L1 Regularization is L1 norm that is sum of absolute values of all the parameters, w. While in case of L2 Regularization we use L2 norm which is sum of squares of the parameters, w.\n",
        "\n",
        "2. L1 Regularization produces spare models and it sets coefficent of less important features to zero. But in case of L2 regularization all the features are retained.\n",
        "\n",
        "3. L1 Regularization uses absoulte value which makes the derivate at x = 0 not defined. So, making it difficult to compute mathematically when compared to L2 regularization.\n",
        "\n",
        "4. L1 Regularization is preffered when we have a large number of features and whe suspect that some of them are not useful at all. So, we can do feature selection and set parameters of less important features to 0. While L2 Regularization is used when we have large number of features and we want to reduce impact of highly correlated features without eliminating features."
      ]
    },
    {
      "cell_type": "markdown",
      "metadata": {
        "id": "iE8tH6Tr8qob"
      },
      "source": [
        "###**Comparing Costs for Test Set**"
      ]
    },
    {
      "cell_type": "markdown",
      "metadata": {
        "id": "vB9wsaQO8qob"
      },
      "source": [
        "**Cost of Test Set for Model Trainied with Stochastic Gradient Descend**"
      ]
    },
    {
      "cell_type": "code",
      "execution_count": 121,
      "metadata": {
        "colab": {
          "base_uri": "https://localhost:8080/"
        },
        "id": "FnkrmgOK8qob",
        "outputId": "03c95a10-886f-4867-f595-af2d72c3e221"
      },
      "outputs": [
        {
          "name": "stdout",
          "output_type": "stream",
          "text": [
            "19.947076865872884\n"
          ]
        }
      ],
      "source": [
        "costTestSetLasso = computeCostFunctionL1Reg(X_testReg, y_test, wFinalValLasso, bFinalValLasso)\n",
        "print(costTestSetLasso)"
      ]
    },
    {
      "cell_type": "markdown",
      "metadata": {
        "id": "Rr_9uXTO8qob"
      },
      "source": [
        "**Cost of Test Set for Model Trainied with Batch Gradient Descend**"
      ]
    },
    {
      "cell_type": "code",
      "execution_count": 122,
      "metadata": {
        "colab": {
          "base_uri": "https://localhost:8080/"
        },
        "id": "adz5ERFn8qob",
        "outputId": "74085cfb-dd67-4de0-dbb9-57b530e6ea00"
      },
      "outputs": [
        {
          "name": "stdout",
          "output_type": "stream",
          "text": [
            "19.93625515421389\n"
          ]
        }
      ],
      "source": [
        "costTestSetRidge = computeCostFunctionL2Reg(X_testReg, y_test, wFinalValRidge, bFinalValRidge)\n",
        "print(costTestSetRidge)"
      ]
    },
    {
      "cell_type": "markdown",
      "metadata": {
        "id": "em9hSFoe8qob"
      },
      "source": [
        "**Plotting the results**"
      ]
    },
    {
      "cell_type": "code",
      "execution_count": 123,
      "metadata": {
        "colab": {
          "base_uri": "https://localhost:8080/",
          "height": 472
        },
        "id": "NXEBTmS68qob",
        "outputId": "67916592-5e6b-4607-a6e0-095e9f3d8981"
      },
      "outputs": [
        {
          "data": {
            "image/png": "[encoded data removed]",
            "text/plain": [
              "<Figure size 640x480 with 1 Axes>"
            ]
          },
          "metadata": {},
          "output_type": "display_data"
        }
      ],
      "source": [
        "fig, ax = plt.subplots()\n",
        "\n",
        "# Plot markers for number1 and number2\n",
        "ax.plot(costTestSetLasso, 0, marker='o', markersize=8, color='blue', label='Cost for Lasso Regression model')\n",
        "ax.plot(costTestSetRidge, 0, marker='s', markersize=8, color='red', label='Cost for Ridge Regression model')\n",
        "\n",
        "# Add a legend\n",
        "ax.legend()\n",
        "\n",
        "# Set ticks and labels for the number line\n",
        "ax.set_xticks([costTestSetLasso, costTestSetRidge])\n",
        "ax.set_yticks([])  # Remove y-axis ticks\n",
        "ax.set_xticklabels([costTestSetLasso, costTestSetRidge])\n",
        "\n",
        "# Add labels and title\n",
        "ax.set_xlabel('Cost Value')\n",
        "ax.set_title('Comparing Cost for L1 & l2 Regularization Models')\n",
        "\n",
        "# Show the plot\n",
        "plt.grid(True)\n",
        "plt.show()\n"
      ]
    },
    {
      "cell_type": "markdown",
      "metadata": {
        "id": "dJjA37e08qoc"
      },
      "source": [
        "**Results**\n",
        "\n",
        "We can see that the cost for Lasso Regression model is approxiamtely equal to that of Ridge Regression model in this case. But we cannot generalize this result as the overall cost depends on the dataset, learning rate, model etc. We need to tune lambda parameters to minimize cost and make sure convergence happens.\n",
        "\n",
        "Like in this case we took lambdaVal = 0.5 and we are getting convergence but taking lambdaVal = 100, in case of Lasso Regression Model, Model is not converging."
      ]
    },
    {
      "cell_type": "markdown",
      "metadata": {
        "id": "jzSfpXtdS_q0"
      },
      "source": [
        "# **_5. Comparison of Logistic Regression and Least Squares Classification_**\n",
        "\n",
        "## **_Logistic Regression_**"
      ]
    },
    {
      "cell_type": "code",
      "execution_count": 124,
      "metadata": {
        "id": "JLCup6QlTG0G"
      },
      "outputs": [],
      "source": [
        "# Defining Sigmoid Function\n",
        "def sigmoidFunction(z):\n",
        "  exp = np.exp(-z)\n",
        "  sigmoidVal = 1 / (1 + exp)\n",
        "  return sigmoidVal\n",
        "\n",
        "\n",
        "# This function is used to compute the value of cost function for logistic regression for a set of parameters w and b.\n",
        "def costFunctionLogistic(X, y, w, b):\n",
        "    m = X.shape[0]\n",
        "    cost = 0.0\n",
        "    for i in range(0, m):\n",
        "        z = np.dot(X[i], w) + b\n",
        "        predictedY = sigmoidFunction(z)\n",
        "        actualY = y[i]\n",
        "        cost = cost + (-actualY * np.log(predictedY) - (1 - actualY) * np.log(1 - predictedY))\n",
        "\n",
        "    cost = cost / m\n",
        "\n",
        "    return cost\n",
        "\n",
        "\n",
        "# This is the function that is used to compute the average gradient for logistic regression given set of parameters.\n",
        "def computeGradientForLogisticReg(X, y, w, b):\n",
        "    # m = number of training examples in the dataset\n",
        "    m = X.shape[0]\n",
        "    # n = number of featrues in the dataset\n",
        "    n = X.shape[1]\n",
        "\n",
        "    # Stores the gradient of the cost function for the parameters b.\n",
        "    gradientB = 0.0\n",
        "    # Stores the gradient of the cost function for the parameters w.\n",
        "    gradientW = np.zeros((n,))\n",
        "\n",
        "    for i in range(m):\n",
        "        x = X[i]\n",
        "        actualY = y[i]\n",
        "        predictedYWithoutSigmoid = np.dot(x, w) + b\n",
        "        predictedY = sigmoidFunction(predictedYWithoutSigmoid)\n",
        "        errorValue = (predictedY - actualY)\n",
        "\n",
        "        for j in range(n):\n",
        "            gradientW[j] = gradientW[j] + (errorValue * X[i, j])\n",
        "\n",
        "        gradientB = gradientB + errorValue\n",
        "\n",
        "    # Taking the average of the gradient values for all the parameters.\n",
        "    gradientW = gradientW / m\n",
        "    gradientB = gradientB / m\n",
        "\n",
        "    return gradientW, gradientB"
      ]
    },
    {
      "cell_type": "markdown",
      "metadata": {
        "id": "TSXJF4ow_dXc"
      },
      "source": [
        "**Training Logistic Regression using Batch Gradient Descend Algorithm**"
      ]
    },
    {
      "cell_type": "code",
      "execution_count": 125,
      "metadata": {
        "id": "if1YvklO_a7y"
      },
      "outputs": [],
      "source": [
        "# m : Number of training examples and n : Number of features in the given dataset\n",
        "m, n = X_train.shape\n",
        "\n",
        "# Initializing values for gradient descend algorithm\n",
        "wInitialVal = np.zeros(n, )\n",
        "bInitialVal = 0.256\n",
        "\n",
        "# Total number of iteration\n",
        "iterations = 1000\n",
        "\n",
        "# Learning Rate of our gradient Descend\n",
        "alpha = 5.0e-7\n",
        "\n",
        "# run gradient descent\n",
        "wFinalValLogistic, bFinalValLogistic, costHistoryStoreLogistic = batchGradientDescendAlgorithm(X_train, y_train, wInitialVal, bInitialVal, alpha, iterations, computeGradientForLogisticReg, costFunctionLogistic)\n"
      ]
    },
    {
      "cell_type": "code",
      "execution_count": 126,
      "metadata": {
        "colab": {
          "base_uri": "https://localhost:8080/"
        },
        "id": "ZMeQkLPOhcnV",
        "outputId": "e1ee332f-81fd-41ad-df74-68cc6ebcc482"
      },
      "outputs": [
        {
          "name": "stdout",
          "output_type": "stream",
          "text": [
            "The Values of w: [-9.32666887e-05 -2.16571516e-03 -3.13770971e-03 -6.24888869e-04\n",
            " -4.93478093e-04 -1.06913569e-03 -1.87553826e-05 -1.32249122e-03]\n",
            "The Value of b: 0.2559513860372007\n"
          ]
        }
      ],
      "source": [
        "print(f\"The Values of w: {wFinalValLogistic}\\nThe Value of b: {bFinalValLogistic}\")"
      ]
    },
    {
      "cell_type": "markdown",
      "metadata": {
        "id": "kdX2kQ-nTHXc"
      },
      "source": [
        "## **_Least Squares Classification_**"
      ]
    },
    {
      "cell_type": "code",
      "execution_count": 127,
      "metadata": {
        "id": "_7qJtwGnTMdb"
      },
      "outputs": [],
      "source": [
        "class LeastSquareClassifierGD(object):\n",
        "    def __init__(self, learning_rate=0.01, num_iterations=1000):\n",
        "        self.learning_rate = learning_rate\n",
        "        self.num_iterations = num_iterations\n",
        "        self.w = None\n",
        "        self.costHistoryStoreLeastSquare = []\n",
        "\n",
        "    def _get_costHistory(self):\n",
        "      return self.costHistoryStoreLeastSquare\n",
        "\n",
        "    def _add_bias(self, X):\n",
        "        return np.c_[np.ones(X.shape[0]), X]\n",
        "\n",
        "    def _sigmoid(self, z):\n",
        "        return 1 / (1 + np.exp(-z))\n",
        "\n",
        "    def _calculate_gradient(self, X, y):\n",
        "        m = len(y)\n",
        "        predictions = X @ self.w\n",
        "        error = predictions - y\n",
        "        gradient = (X.T @ error) / m\n",
        "        return gradient\n",
        "\n",
        "    def fit(self, X, y):\n",
        "        X_bias = self._add_bias(X)\n",
        "        num_samples, num_features = X_bias.shape\n",
        "        self.w = np.zeros(num_features)\n",
        "\n",
        "        for _ in range(self.num_iterations):\n",
        "            gradient = self._calculate_gradient(X_bias, y)\n",
        "            self.w -= self.learning_rate * gradient\n",
        "            self.costHistoryStoreLeastSquare.append(self.error(X, y))\n",
        "\n",
        "    def predict(self, X):\n",
        "        X_bias = self._add_bias(X)\n",
        "        predictions = X_bias @ self.w\n",
        "        predictions = np.where(predictions < 0 , 0, predictions)\n",
        "        predictions = np.where(predictions > 0 , 1, predictions)\n",
        "        return predictions\n",
        "\n",
        "    def error(self, X, y):\n",
        "        predictions = self.predict(X)\n",
        "        err = np.mean((predictions - y) ** 2)\n",
        "        return err"
      ]
    },
    {
      "cell_type": "code",
      "execution_count": 128,
      "metadata": {
        "id": "qHPAgG6DEWbP"
      },
      "outputs": [],
      "source": [
        "lsc = LeastSquareClassifierGD(learning_rate = 1e-5, num_iterations = 1000)\n",
        "lsc.fit(X_train, y_train)\n",
        "costHistoryStoreLeastSquare = lsc._get_costHistory()"
      ]
    },
    {
      "cell_type": "markdown",
      "metadata": {
        "id": "WSoa7KO1TM6-"
      },
      "source": [
        "## **_Insights drawn (plots, markdown explanations)_**"
      ]
    },
    {
      "cell_type": "markdown",
      "metadata": {
        "id": "jl4n8C84iZE_"
      },
      "source": [
        "**Cost vs Iteration Plot for Logistic Regression & Least Square Classification**"
      ]
    },
    {
      "cell_type": "code",
      "execution_count": 129,
      "metadata": {
        "colab": {
          "base_uri": "https://localhost:8080/",
          "height": 384
        },
        "id": "eI-WBPm_iZFS",
        "outputId": "28b6a16d-2cb8-4d99-e5fa-4a03929d8022"
      },
      "outputs": [
        {
          "data": {
            "image/png": "[encoded data removed]",
            "text/plain": [
              "<Figure size 1400x400 with 2 Axes>"
            ]
          },
          "metadata": {},
          "output_type": "display_data"
        }
      ],
      "source": [
        "fig, (Logisticcurve, LeastSqcurve) = plt.subplots(1, 2, constrained_layout=True, figsize=(14, 4))\n",
        "Logisticcurve.plot(costHistoryStoreLogistic)\n",
        "LeastSqcurve.plot(costHistoryStoreLeastSquare)\n",
        "Logisticcurve.set_title(\"Logistic Regression Cost vs. Iteration\");  LeastSqcurve.set_title(\"Least Square Classification Cost vs. Iteration\")\n",
        "Logisticcurve.set_ylabel('Cost Value')             ;  LeastSqcurve.set_ylabel('Cost Value')\n",
        "Logisticcurve.set_xlabel('Number of Iterations')   ;  LeastSqcurve.set_xlabel('Number of Iterations')\n",
        "plt.show()"
      ]
    },
    {
      "cell_type": "markdown",
      "metadata": {
        "id": "z3CnNAp2iZFT"
      },
      "source": [
        "###**Explaination of Above Results**\n",
        "\n",
        "**The major difference between the Logistic and Least Square Classification**\n",
        "\n",
        "1. Logistic Regression: Logistic regression uses the logistic (sigmoid) function to map a linear combination of input features to the probability of belonging to the positive class.\n",
        "2. Least Squares Classification: It models the distribution of features for each class and computes linear combinations of input features to find the best discriminative boundary that minimizes the squared Euclidean distances between data points of the same class while maximizing the distances between different classes.\n",
        "**Difference between the curves of logistic regression and least square classification**\n",
        "1. In the case of logistic regression it can be interpreted that the value of cost function reduces as the number of iterations. It can also be seen that the value varies as a continous fucntion.\n",
        "2. On the other hand, in least sqaure classification there are varied fluctations on the value of cost function as the number of iterations. The reason behind is that the discriminating line fluctates between the classes."
      ]
    },
    {
      "cell_type": "markdown",
      "metadata": {
        "id": "c9ECkjtCGEWQ"
      },
      "source": [
        "##Accuracy For Least Square Method"
      ]
    },
    {
      "cell_type": "code",
      "execution_count": 130,
      "metadata": {
        "colab": {
          "base_uri": "https://localhost:8080/"
        },
        "id": "3ffjsyKjGD3B",
        "outputId": "7539386f-e87a-41f7-a775-c19b1f3c5c3b"
      },
      "outputs": [
        {
          "name": "stdout",
          "output_type": "stream",
          "text": [
            "Test Accuracy Of Least Square Classification : 0.27\n",
            "Training Accuracy Of Least Square Classification : 0.3575\n"
          ]
        }
      ],
      "source": [
        "y_test_pred = lsc.predict(X_test)\n",
        "accuracy = np.mean(y_test_pred == y_test)\n",
        "print(\"Test Accuracy Of Least Square Classification : \" + str(accuracy))\n",
        "\n",
        "y_train_pred = lsc.predict(X_train)\n",
        "accuracy = np.mean(y_train_pred == y_train)\n",
        "print(\"Training Accuracy Of Least Square Classification : \" + str(accuracy))"
      ]
    },
    {
      "cell_type": "markdown",
      "metadata": {
        "id": "FdrGo3QQiZFT"
      },
      "source": [
        "###**Comparing Costs for Test Set**"
      ]
    },
    {
      "cell_type": "markdown",
      "metadata": {
        "id": "0TUy0b6YiZFU"
      },
      "source": [
        "**Cost of Test Set for Model Trainied with Logistic Regression**"
      ]
    },
    {
      "cell_type": "code",
      "execution_count": 131,
      "metadata": {
        "colab": {
          "base_uri": "https://localhost:8080/"
        },
        "id": "2KPT_4hgiZFU",
        "outputId": "00cb5615-7f24-42da-dd0a-1943cb482e10"
      },
      "outputs": [
        {
          "name": "stdout",
          "output_type": "stream",
          "text": [
            "0.6355356360312114\n"
          ]
        }
      ],
      "source": [
        "costTestSetLogistic = costFunctionLogistic(X_test, y_test, wFinalValLogistic, bFinalValLogistic)\n",
        "print(costTestSetLogistic)"
      ]
    },
    {
      "cell_type": "markdown",
      "metadata": {
        "id": "aWzzr_EWiZFU"
      },
      "source": [
        "**Cost of Test Set for Model Trainied with Least Square Classification**\n",
        "\n",
        "---\n",
        "\n"
      ]
    },
    {
      "cell_type": "code",
      "execution_count": 132,
      "metadata": {
        "colab": {
          "base_uri": "https://localhost:8080/"
        },
        "id": "bTGReD9qiZFV",
        "outputId": "530753b2-de56-4025-b291-628b4499c407"
      },
      "outputs": [
        {
          "name": "stdout",
          "output_type": "stream",
          "text": [
            "0.73\n"
          ]
        }
      ],
      "source": [
        "costTestSetLeastSq = lsc.error(X_test, y_test)\n",
        "print(costTestSetLeastSq)"
      ]
    },
    {
      "cell_type": "markdown",
      "metadata": {
        "id": "aWm6-GEQiZFV"
      },
      "source": [
        "**Plotting the results**"
      ]
    },
    {
      "cell_type": "code",
      "execution_count": 133,
      "metadata": {
        "colab": {
          "base_uri": "https://localhost:8080/",
          "height": 472
        },
        "id": "ZtNEe4_GiZFV",
        "outputId": "6e9a15de-9b83-4609-d632-c91402b3aaa0"
      },
      "outputs": [
        {
          "data": {
            "image/png": "[encoded data removed]",
            "text/plain": [
              "<Figure size 640x480 with 1 Axes>"
            ]
          },
          "metadata": {},
          "output_type": "display_data"
        }
      ],
      "source": [
        "fig, ax = plt.subplots()\n",
        "\n",
        "# Plot markers for number1 and number2\n",
        "ax.plot(costTestSetLogistic, 0, marker='o', markersize=8, color='blue', label='Cost for Logistic Regression model')\n",
        "ax.plot(costTestSetLeastSq, 0, marker='s', markersize=8, color='red', label='Cost for Least Square Classification model')\n",
        "\n",
        "# Add a legend\n",
        "ax.legend()\n",
        "\n",
        "# Set ticks and labels for the number line\n",
        "ax.set_xticks([costTestSetLogistic, costTestSetLeastSq])\n",
        "ax.set_yticks([])  # Remove y-axis ticks\n",
        "ax.set_xticklabels([costTestSetLogistic, costTestSetLeastSq])\n",
        "\n",
        "# Add labels and title\n",
        "ax.set_xlabel('Cost Value')\n",
        "ax.set_title('Comparing Cost for Logistic & Least Square Classificaiton Models')\n",
        "\n",
        "# Show the plot\n",
        "plt.grid(True)\n",
        "plt.show()\n"
      ]
    },
    {
      "cell_type": "markdown",
      "metadata": {
        "id": "tEmRlZnKiZFW"
      },
      "source": [
        "**Results**\n",
        "\n",
        "We can cleary see that the cost for training the model with logistic regression is significantly less than the cost of training the model using Least Square Classification model."
      ]
    },
    {
      "cell_type": "markdown",
      "metadata": {
        "id": "81SwQ_y4TaSc"
      },
      "source": [
        "# **_5. References_**\n",
        "\n",
        "1.   https://medium.com/analytics-vidhya/l1-vs-l2-regularization-which-is-better-d01068e6658c\n",
        "2.   https://medium.com/analytics-vidhya/regularization-understanding-l1-and-l2-regularization-for-deep-learning-a7b9e4a409bf\n",
        "3. https://www.javatpoint.com/regression-analysis-in-machine-learning\n",
        "4. https://www.geeksforgeeks.org/ml-linear-regression/\n",
        "5. https://towardsdatascience.com/a-beginners-guide-to-regression-analysis-in-machine-learning-8a828b491bbf\n",
        "6. https://towardsdatascience.com/derivation-of-least-squares-regressor-and-classifier-708be1358fe9\n",
        "7. https://www.javatpoint.com/logistic-regression-in-machine-learning#:~:text=Logistic%20regression%20is%20one%20of,of%20a%20categorical%20dependent%20variable.\n",
        "8. https://www.analyticsvidhya.com/blog/2021/10/building-an-end-to-end-logistic-regression-model/\n",
        "\n"
      ]
    }
  ],
  "metadata": {
    "colab": {
      "provenance": []
    },
    "kernelspec": {
      "display_name": "Python 3",
      "name": "python3"
    },
    "language_info": {
      "codemirror_mode": {
        "name": "ipython",
        "version": 3
      },
      "file_extension": ".py",
      "mimetype": "text/x-python",
      "name": "python",
      "nbconvert_exporter": "python",
      "pygments_lexer": "ipython3",
      "version": "3.10.12"
    }
  },
  "nbformat": 4,
  "nbformat_minor": 0
}
